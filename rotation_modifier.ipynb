{
 "cells": [
  {
   "cell_type": "code",
   "execution_count": null,
   "metadata": {},
   "outputs": [],
   "source": [
    "import numpy as np\n",
    "\n",
    "root = \"exhaustive-grid-search/data/rotations/\"\n",
    "rotations = np.load(root + \"R_AA_ICO162_S10_removed_duplicates.npy\")"
   ]
  },
  {
   "cell_type": "markdown",
   "metadata": {},
   "source": [
    "### Rotations around the z-axis"
   ]
  },
  {
   "cell_type": "code",
   "execution_count": null,
   "metadata": {},
   "outputs": [
    {
     "name": "stdout",
     "output_type": "stream",
     "text": [
      "Saved 44 rotations around the z-axis.\n"
     ]
    }
   ],
   "source": [
    "def is_z_axis_rotation(R, tol=1e-6):\n",
    "    return (\n",
    "        np.abs(R[0, 2]) < tol\n",
    "        and np.abs(R[1, 2]) < tol\n",
    "        and np.abs(R[2, 0]) < tol\n",
    "        and np.abs(R[2, 1]) < tol\n",
    "        and np.abs(R[2, 2] - 1) < tol\n",
    "    )\n",
    "\n",
    "\n",
    "z_axis_rotations = np.array([R for R in rotations if is_z_axis_rotation(R)])\n",
    "\n",
    "np.save(root + \"R_AA_ICO162_S10_removed_duplicates_z_axis.npy\", z_axis_rotations)\n",
    "print(f\"Saved {z_axis_rotations.shape[0]} rotations around the z-axis.\")"
   ]
  },
  {
   "cell_type": "markdown",
   "metadata": {},
   "source": [
    "### Rotations with rotation angles below thresholds"
   ]
  },
  {
   "cell_type": "code",
   "execution_count": null,
   "metadata": {},
   "outputs": [
    {
     "name": "stdout",
     "output_type": "stream",
     "text": [
      "Saved 9 rotations with rotation angles below thresholds (x: 5°, y: 5°, z: 45°).\n"
     ]
    }
   ],
   "source": [
    "max_angle_deg_x = 5\n",
    "max_angle_deg_y = 5\n",
    "max_angle_deg_z = 45\n",
    "\n",
    "\n",
    "def is_small_rotation(R, max_angle_deg_x, max_angle_deg_y, max_angle_deg_z, eps=1e-6):\n",
    "    sy = np.sqrt(R[0, 0] ** 2 + R[1, 0] ** 2)\n",
    "    singular = sy < eps\n",
    "\n",
    "    if not singular:\n",
    "        x_angle_rad = np.arctan2(R[2, 1], R[2, 2])\n",
    "        y_angle_rad = np.arctan2(-R[2, 0], sy)\n",
    "        z_angle_rad = np.arctan2(R[1, 0], R[0, 0])\n",
    "    else:\n",
    "        x_angle_rad = np.arctan2(-R[1, 2], R[1, 1])\n",
    "        y_angle_rad = np.arctan2(-R[2, 0], sy)\n",
    "        z_angle_rad = 0.0\n",
    "\n",
    "    x_angle_deg = np.degrees(x_angle_rad)\n",
    "    y_angle_deg = np.degrees(y_angle_rad)\n",
    "    z_angle_deg = np.degrees(z_angle_rad)\n",
    "\n",
    "    return (\n",
    "        abs(x_angle_deg) < max_angle_deg_x\n",
    "        and abs(y_angle_deg) < max_angle_deg_y\n",
    "        and abs(z_angle_deg) < max_angle_deg_z\n",
    "    )\n",
    "\n",
    "\n",
    "small_rotations = np.array(\n",
    "    [\n",
    "        R\n",
    "        for R in rotations\n",
    "        if is_small_rotation(R, max_angle_deg_x, max_angle_deg_y, max_angle_deg_z)\n",
    "    ]\n",
    ")\n",
    "\n",
    "np.save(root + \"R_AA_ICO162_S10_small_rotations.npy\", small_rotations)\n",
    "print(\n",
    "    f\"Saved {small_rotations.shape[0]} rotations with rotation angles below thresholds (x: {max_angle_deg_x}°, y: {max_angle_deg_y}°, z: {max_angle_deg_z}°).\"\n",
    ")"
   ]
  },
  {
   "cell_type": "markdown",
   "metadata": {},
   "source": [
    "### Rotation space search"
   ]
  },
  {
   "cell_type": "code",
   "execution_count": null,
   "metadata": {},
   "outputs": [
    {
     "name": "stdout",
     "output_type": "stream",
     "text": [
      "Saved 1656 rotation matrices to 'generated_rotations.npy'\n"
     ]
    }
   ],
   "source": [
    "max_angle_deg_x = 5\n",
    "max_angle_deg_y = 5\n",
    "max_angle_deg_z = 45\n",
    "step_deg = 2\n",
    "\n",
    "\n",
    "def rotation_matrix_from_euler(x_deg, y_deg, z_deg):\n",
    "    x = np.radians(x_deg)\n",
    "    y = np.radians(y_deg)\n",
    "    z = np.radians(z_deg)\n",
    "\n",
    "    R_x = np.array([[1, 0, 0], [0, np.cos(x), -np.sin(x)], [0, np.sin(x), np.cos(x)]])\n",
    "\n",
    "    R_y = np.array([[np.cos(y), 0, np.sin(y)], [0, 1, 0], [-np.sin(y), 0, np.cos(y)]])\n",
    "\n",
    "    R_z = np.array([[np.cos(z), -np.sin(z), 0], [np.sin(z), np.cos(z), 0], [0, 0, 1]])\n",
    "\n",
    "    return R_z @ R_y @ R_x\n",
    "\n",
    "\n",
    "x_angles = np.arange(-max_angle_deg_x, max_angle_deg_x + step_deg, step_deg)\n",
    "y_angles = np.arange(-max_angle_deg_y, max_angle_deg_y + step_deg, step_deg)\n",
    "z_angles = np.arange(-max_angle_deg_z, max_angle_deg_z + step_deg, step_deg)\n",
    "\n",
    "rotations = []\n",
    "\n",
    "for x in x_angles:\n",
    "    for y in y_angles:\n",
    "        for z in z_angles:\n",
    "            R = rotation_matrix_from_euler(x, y, z)\n",
    "            rotations.append(R)\n",
    "\n",
    "rotations = np.array(rotations)\n",
    "\n",
    "np.save(root + \"generated_rotations.npy\", rotations)\n",
    "print(f\"Saved {rotations.shape[0]} rotation matrices to 'generated_rotations.npy'\")"
   ]
  }
 ],
 "metadata": {
  "kernelspec": {
   "display_name": "Python 3",
   "language": "python",
   "name": "python3"
  },
  "language_info": {
   "codemirror_mode": {
    "name": "ipython",
    "version": 3
   },
   "file_extension": ".py",
   "mimetype": "text/x-python",
   "name": "python",
   "nbconvert_exporter": "python",
   "pygments_lexer": "ipython3",
   "version": "3.11.11"
  }
 },
 "nbformat": 4,
 "nbformat_minor": 2
}
